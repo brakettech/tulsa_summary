{
 "cells": [
  {
   "cell_type": "code",
   "execution_count": 25,
   "metadata": {},
   "outputs": [],
   "source": [
    "%matplotlib inline\n",
    "import pandas as pd\n",
    "from daq.pico import CSV\n",
    "import pylab as pl\n",
    "import easier as ezr\n",
    "import seaborn as sns\n",
    "sns.set_context('talk')"
   ]
  },
  {
   "cell_type": "code",
   "execution_count": 19,
   "metadata": {},
   "outputs": [],
   "source": [
    "file_name = './data_dir/20180417/20180417-0081/20180417-0081_1.csv'"
   ]
  },
  {
   "cell_type": "code",
   "execution_count": 27,
   "metadata": {},
   "outputs": [
    {
     "data": {
      "text/html": [
       "<div>\n",
       "<style scoped>\n",
       "    .dataframe tbody tr th:only-of-type {\n",
       "        vertical-align: middle;\n",
       "    }\n",
       "\n",
       "    .dataframe tbody tr th {\n",
       "        vertical-align: top;\n",
       "    }\n",
       "\n",
       "    .dataframe thead th {\n",
       "        text-align: right;\n",
       "    }\n",
       "</style>\n",
       "<table border=\"1\" class=\"dataframe\">\n",
       "  <thead>\n",
       "    <tr style=\"text-align: right;\">\n",
       "      <th></th>\n",
       "      <th>time</th>\n",
       "      <th>signal_generator</th>\n",
       "      <th>resistor_voltage</th>\n",
       "      <th>receiver_voltage</th>\n",
       "      <th>secondary_voltage</th>\n",
       "    </tr>\n",
       "  </thead>\n",
       "  <tbody>\n",
       "    <tr>\n",
       "      <th>0</th>\n",
       "      <td>-0.000008</td>\n",
       "      <td>-0.308054</td>\n",
       "      <td>-3.002411</td>\n",
       "      <td>-0.007538</td>\n",
       "      <td>-0.007752</td>\n",
       "    </tr>\n",
       "    <tr>\n",
       "      <th>1</th>\n",
       "      <td>-0.000003</td>\n",
       "      <td>-0.318293</td>\n",
       "      <td>-3.036134</td>\n",
       "      <td>-0.009873</td>\n",
       "      <td>-0.003235</td>\n",
       "    </tr>\n",
       "    <tr>\n",
       "      <th>2</th>\n",
       "      <td>0.000002</td>\n",
       "      <td>-0.309748</td>\n",
       "      <td>-3.031251</td>\n",
       "      <td>-0.002731</td>\n",
       "      <td>0.001892</td>\n",
       "    </tr>\n",
       "    <tr>\n",
       "      <th>3</th>\n",
       "      <td>0.000007</td>\n",
       "      <td>-0.305231</td>\n",
       "      <td>-3.012940</td>\n",
       "      <td>-0.016282</td>\n",
       "      <td>0.005737</td>\n",
       "    </tr>\n",
       "    <tr>\n",
       "      <th>4</th>\n",
       "      <td>0.000012</td>\n",
       "      <td>-0.309824</td>\n",
       "      <td>-3.015229</td>\n",
       "      <td>-0.010666</td>\n",
       "      <td>0.008667</td>\n",
       "    </tr>\n",
       "    <tr>\n",
       "      <th>5</th>\n",
       "      <td>0.000017</td>\n",
       "      <td>-0.308054</td>\n",
       "      <td>-3.003174</td>\n",
       "      <td>-0.002014</td>\n",
       "      <td>0.012513</td>\n",
       "    </tr>\n",
       "    <tr>\n",
       "      <th>6</th>\n",
       "      <td>0.000022</td>\n",
       "      <td>-0.317957</td>\n",
       "      <td>-3.062685</td>\n",
       "      <td>-0.012604</td>\n",
       "      <td>0.018006</td>\n",
       "    </tr>\n",
       "    <tr>\n",
       "      <th>7</th>\n",
       "      <td>0.000027</td>\n",
       "      <td>-0.308618</td>\n",
       "      <td>-3.018433</td>\n",
       "      <td>-0.016129</td>\n",
       "      <td>0.019593</td>\n",
       "    </tr>\n",
       "    <tr>\n",
       "      <th>8</th>\n",
       "      <td>0.000032</td>\n",
       "      <td>-0.308298</td>\n",
       "      <td>-2.987152</td>\n",
       "      <td>0.001602</td>\n",
       "      <td>0.021851</td>\n",
       "    </tr>\n",
       "    <tr>\n",
       "      <th>9</th>\n",
       "      <td>0.000037</td>\n",
       "      <td>-0.312479</td>\n",
       "      <td>-2.981506</td>\n",
       "      <td>-0.012360</td>\n",
       "      <td>0.027345</td>\n",
       "    </tr>\n",
       "  </tbody>\n",
       "</table>\n",
       "</div>"
      ],
      "text/plain": [
       "       time  signal_generator  resistor_voltage  receiver_voltage  \\\n",
       "0 -0.000008         -0.308054         -3.002411         -0.007538   \n",
       "1 -0.000003         -0.318293         -3.036134         -0.009873   \n",
       "2  0.000002         -0.309748         -3.031251         -0.002731   \n",
       "3  0.000007         -0.305231         -3.012940         -0.016282   \n",
       "4  0.000012         -0.309824         -3.015229         -0.010666   \n",
       "5  0.000017         -0.308054         -3.003174         -0.002014   \n",
       "6  0.000022         -0.317957         -3.062685         -0.012604   \n",
       "7  0.000027         -0.308618         -3.018433         -0.016129   \n",
       "8  0.000032         -0.308298         -2.987152          0.001602   \n",
       "9  0.000037         -0.312479         -2.981506         -0.012360   \n",
       "\n",
       "   secondary_voltage  \n",
       "0          -0.007752  \n",
       "1          -0.003235  \n",
       "2           0.001892  \n",
       "3           0.005737  \n",
       "4           0.008667  \n",
       "5           0.012513  \n",
       "6           0.018006  \n",
       "7           0.019593  \n",
       "8           0.021851  \n",
       "9           0.027345  "
      ]
     },
     "execution_count": 27,
     "metadata": {},
     "output_type": "execute_result"
    }
   ],
   "source": [
    "channel_mapper = dict(\n",
    "    a='signal_generator',\n",
    "    b='resistor_voltage',\n",
    "    c='receiver_voltage',\n",
    "    d='secondary_voltage'\n",
    ")\n",
    "\n",
    "\n",
    "csv = CSV(file_name=file_name, nrows=None, standardize=True, max_sample_freq=1000000.0, **channel_mapper)\n",
    "df = csv.df.copy()\n",
    "df = df.rename(columns={'t': 'time'})\n",
    "df.head(10)"
   ]
  },
  {
   "cell_type": "code",
   "execution_count": 28,
   "metadata": {},
   "outputs": [
    {
     "data": {
      "text/html": [
       "<div>\n",
       "<style scoped>\n",
       "    .dataframe tbody tr th:only-of-type {\n",
       "        vertical-align: middle;\n",
       "    }\n",
       "\n",
       "    .dataframe tbody tr th {\n",
       "        vertical-align: top;\n",
       "    }\n",
       "\n",
       "    .dataframe thead th {\n",
       "        text-align: right;\n",
       "    }\n",
       "</style>\n",
       "<table border=\"1\" class=\"dataframe\">\n",
       "  <thead>\n",
       "    <tr style=\"text-align: right;\">\n",
       "      <th></th>\n",
       "      <th>time</th>\n",
       "      <th>signal_generator</th>\n",
       "      <th>resistor_voltage</th>\n",
       "      <th>receiver_voltage</th>\n",
       "      <th>secondary_voltage</th>\n",
       "    </tr>\n",
       "  </thead>\n",
       "  <tbody>\n",
       "    <tr>\n",
       "      <th>0</th>\n",
       "      <td>-0.000008</td>\n",
       "      <td>-0.308054</td>\n",
       "      <td>-3.002411</td>\n",
       "      <td>-0.007538</td>\n",
       "      <td>-0.007752</td>\n",
       "    </tr>\n",
       "    <tr>\n",
       "      <th>1</th>\n",
       "      <td>-0.000003</td>\n",
       "      <td>-0.318293</td>\n",
       "      <td>-3.036134</td>\n",
       "      <td>-0.009873</td>\n",
       "      <td>-0.003235</td>\n",
       "    </tr>\n",
       "    <tr>\n",
       "      <th>2</th>\n",
       "      <td>0.000002</td>\n",
       "      <td>-0.309748</td>\n",
       "      <td>-3.031251</td>\n",
       "      <td>-0.002731</td>\n",
       "      <td>0.001892</td>\n",
       "    </tr>\n",
       "    <tr>\n",
       "      <th>3</th>\n",
       "      <td>0.000007</td>\n",
       "      <td>-0.305231</td>\n",
       "      <td>-3.012940</td>\n",
       "      <td>-0.016282</td>\n",
       "      <td>0.005737</td>\n",
       "    </tr>\n",
       "    <tr>\n",
       "      <th>4</th>\n",
       "      <td>0.000012</td>\n",
       "      <td>-0.309824</td>\n",
       "      <td>-3.015229</td>\n",
       "      <td>-0.010666</td>\n",
       "      <td>0.008667</td>\n",
       "    </tr>\n",
       "  </tbody>\n",
       "</table>\n",
       "</div>"
      ],
      "text/plain": [
       "       time  signal_generator  resistor_voltage  receiver_voltage  \\\n",
       "0 -0.000008         -0.308054         -3.002411         -0.007538   \n",
       "1 -0.000003         -0.318293         -3.036134         -0.009873   \n",
       "2  0.000002         -0.309748         -3.031251         -0.002731   \n",
       "3  0.000007         -0.305231         -3.012940         -0.016282   \n",
       "4  0.000012         -0.309824         -3.015229         -0.010666   \n",
       "\n",
       "   secondary_voltage  \n",
       "0          -0.007752  \n",
       "1          -0.003235  \n",
       "2           0.001892  \n",
       "3           0.005737  \n",
       "4           0.008667  "
      ]
     },
     "execution_count": 28,
     "metadata": {},
     "output_type": "execute_result"
    }
   ],
   "source": []
  },
  {
   "cell_type": "code",
   "execution_count": 45,
   "metadata": {},
   "outputs": [
    {
     "data": {
      "text/plain": [
       "Text(0,0.5,'Measurement')"
      ]
     },
     "execution_count": 45,
     "metadata": {},
     "output_type": "execute_result"
    },
    {
     "data": {
      "image/png": "[encoded data removed]",
      "text/plain": [
       "<Figure size 648x360 with 1 Axes>"
      ]
     },
     "metadata": {},
     "output_type": "display_data"
    }
   ],
   "source": [
    "dff = df.head(10000)\n",
    "\n",
    "ezr.figure(style='seaborn-dark')\n",
    "t = dff.time * 1000\n",
    "\n",
    "pl.plot(t, dff.resistor_voltage / 0.5, label='Primary Current (A)')\n",
    "pl.plot(t, dff.secondary_voltage, label='Secondary Voltage (V)')\n",
    "ax = pl.gca()\n",
    "ax.set_ylim(-9.9, 9.9)\n",
    "\n",
    "pl.legend(loc='best')\n",
    "pl.xlabel('Time (ms)')\n",
    "pl.ylabel('Measurement')"
   ]
  },
  {
   "cell_type": "code",
   "execution_count": null,
   "metadata": {},
   "outputs": [],
   "source": []
  },
  {
   "cell_type": "code",
   "execution_count": null,
   "metadata": {},
   "outputs": [],
   "source": []
  },
  {
   "cell_type": "code",
   "execution_count": null,
   "metadata": {},
   "outputs": [],
   "source": []
  },
  {
   "cell_type": "code",
   "execution_count": null,
   "metadata": {},
   "outputs": [],
   "source": []
  },
  {
   "cell_type": "code",
   "execution_count": null,
   "metadata": {},
   "outputs": [],
   "source": []
  },
  {
   "cell_type": "code",
   "execution_count": null,
   "metadata": {},
   "outputs": [],
   "source": []
  },
  {
   "cell_type": "code",
   "execution_count": null,
   "metadata": {},
   "outputs": [],
   "source": []
  },
  {
   "cell_type": "code",
   "execution_count": null,
   "metadata": {},
   "outputs": [],
   "source": []
  },
  {
   "cell_type": "code",
   "execution_count": null,
   "metadata": {},
   "outputs": [],
   "source": []
  },
  {
   "cell_type": "code",
   "execution_count": null,
   "metadata": {},
   "outputs": [],
   "source": []
  },
  {
   "cell_type": "code",
   "execution_count": null,
   "metadata": {},
   "outputs": [],
   "source": []
  },
  {
   "cell_type": "code",
   "execution_count": null,
   "metadata": {},
   "outputs": [],
   "source": []
  },
  {
   "cell_type": "code",
   "execution_count": null,
   "metadata": {},
   "outputs": [],
   "source": [
    "(20180417-0081_1.csv"
   ]
  }
 ],
 "metadata": {
  "kernelspec": {
   "display_name": "Python 3",
   "language": "python",
   "name": "python3"
  },
  "language_info": {
   "codemirror_mode": {
    "name": "ipython",
    "version": 3
   },
   "file_extension": ".py",
   "mimetype": "text/x-python",
   "name": "python",
   "nbconvert_exporter": "python",
   "pygments_lexer": "ipython3",
   "version": "3.6.5"
  }
 },
 "nbformat": 4,
 "nbformat_minor": 2
}
